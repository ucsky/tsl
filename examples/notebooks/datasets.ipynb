{
 "cells": [
  {
   "cell_type": "markdown",
   "metadata": {
    "colab_type": "text",
    "id": "view-in-github"
   },
   "source": [
    "<a href=\"https://colab.research.google.com/github/TorchSpatiotemporal/tsl/blob/main/examples/notebooks/a_gentle_introduction_to_tsl.ipynb\" target=\"_parent\"><img src=\"https://colab.research.google.com/assets/colab-badge.svg\" alt=\"Open In Colab\"/></a>"
   ]
  },
  {
   "cell_type": "markdown",
   "metadata": {
    "id": "-xxE1lI-YVk2"
   },
   "source": [
    "# Dataset in tsl\n",
    "---\n",
    "\n",
    "Check `a_gentle_introduction_to_tsl.ipynb` first. \n",
    "\n",
    "Documentations https://torch-spatiotemporal.readthedocs.io/en/latest/modules/datasets.html#datasets-in-tsl"
   ]
  },
  {
   "cell_type": "code",
   "execution_count": null,
   "metadata": {
    "id": "hLAxpbejYVk4"
   },
   "outputs": [],
   "source": [
    "import tsl\n",
    "import torch\n",
    "import numpy as np\n",
    "\n",
    "np.set_printoptions(suppress=True)\n",
    "tsl.logger.disabled = True\n",
    "\n",
    "print(f\"tsl version  : {tsl.__version__}\")\n",
    "print(f\"torch version: {torch.__version__}\")"
   ]
  },
  {
   "cell_type": "code",
   "execution_count": null,
   "metadata": {},
   "outputs": [],
   "source": [
    "from tsl import datasets"
   ]
  },
  {
   "cell_type": "code",
   "execution_count": null,
   "metadata": {},
   "outputs": [],
   "source": [
    "print(\"Inside the datasets module:\")\n",
    "dir(datasets)"
   ]
  },
  {
   "cell_type": "code",
   "execution_count": null,
   "metadata": {
    "id": "BsPkG4uMYVk5"
   },
   "outputs": [],
   "source": [
    "def lookat(dataset):\n",
    "    ''' Helper fonction for look at a dataset '''\n",
    "    print(dataset)\n",
    "    print(f\"Sampling period: {dataset.freq}\\n\"\n",
    "      f\"Has missing values: {dataset.has_mask}\\n\"\n",
    "      f\"Percentage of missing values: {(1 - dataset.mask.mean()) * 100:.2f}%\\n\"\n",
    "      f\"Has dataset exogenous variables: {dataset.has_exogenous}\\n\"\n",
    "      f\"Relevant attributes: {', '.join(dataset.attributes.keys())}\")\n",
    "    try:\n",
    "        print(\"dist.shape\", dataset.dist.shape)\n",
    "    except AttributeError:\n",
    "        print(\"WARNING: no attribute dist.\")\n",
    "        pass\n",
    "    display(dataset.dataframe().head(10))\n",
    "    print(f\"Default similarity: {dataset.similarity_score}\\n\"\n",
    "      f\"Available similarity options: {dataset.similarity_options}\\n\")"
   ]
  },
  {
   "cell_type": "markdown",
   "metadata": {},
   "source": [
    "## MetrLA"
   ]
  },
  {
   "cell_type": "code",
   "execution_count": null,
   "metadata": {
    "id": "L74iikTiYVk6"
   },
   "outputs": [],
   "source": [
    "from tsl.datasets import MetrLA\n",
    "dataset = MetrLA()\n",
    "lookat(dataset)"
   ]
  },
  {
   "cell_type": "markdown",
   "metadata": {},
   "source": [
    "## AirQuality"
   ]
  },
  {
   "cell_type": "code",
   "execution_count": null,
   "metadata": {},
   "outputs": [],
   "source": [
    "from tsl.datasets import AirQuality\n",
    "dataset = AirQuality()\n",
    "lookat(dataset)"
   ]
  },
  {
   "cell_type": "code",
   "execution_count": null,
   "metadata": {},
   "outputs": [],
   "source": [
    "from tsl.datasets import Elergone\n",
    "dataset =  Elergone()\n",
    "lookat(dataset)"
   ]
  },
  {
   "cell_type": "markdown",
   "metadata": {},
   "source": [
    "## ExchangeBenchmark"
   ]
  },
  {
   "cell_type": "code",
   "execution_count": null,
   "metadata": {},
   "outputs": [],
   "source": [
    "from tsl.datasets import ExchangeBenchmark\n",
    "dataset = ExchangeBenchmark()\n",
    "lookat(dataset)"
   ]
  },
  {
   "cell_type": "code",
   "execution_count": null,
   "metadata": {},
   "outputs": [],
   "source": []
  }
 ],
 "metadata": {
  "accelerator": "GPU",
  "colab": {
   "collapsed_sections": [],
   "include_colab_link": true,
   "name": "a_gentle_introduction_to_tsl.ipynb",
   "provenance": []
  },
  "kernelspec": {
   "display_name": "Python 3 (ipykernel)",
   "language": "python",
   "name": "python3"
  },
  "language_info": {
   "codemirror_mode": {
    "name": "ipython",
    "version": 3
   },
   "file_extension": ".py",
   "mimetype": "text/x-python",
   "name": "python",
   "nbconvert_exporter": "python",
   "pygments_lexer": "ipython3",
   "version": "3.8.13"
  }
 },
 "nbformat": 4,
 "nbformat_minor": 4
}
