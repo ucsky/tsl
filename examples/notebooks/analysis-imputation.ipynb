{
 "cells": [
  {
   "cell_type": "markdown",
   "id": "5fbdb078-5d73-475e-9c66-ed06d0d3ae62",
   "metadata": {},
   "source": [
    "# Analysis time series befores and after imputation"
   ]
  },
  {
   "cell_type": "code",
   "execution_count": null,
   "id": "f9075df9-0059-4f97-a121-c2c7bd4489b5",
   "metadata": {},
   "outputs": [],
   "source": [
    "import pandas as pd"
   ]
  },
  {
   "cell_type": "markdown",
   "id": "619d0b44-4b55-438d-96fe-1d5792d7ecd9",
   "metadata": {},
   "source": [
    "## What are the present h5 files?"
   ]
  },
  {
   "cell_type": "code",
   "execution_count": null,
   "id": "532fdcaf-a20d-48a4-a51b-e5f51d3a4972",
   "metadata": {},
   "outputs": [],
   "source": [
    "%%bash\n",
    "find ../../* -name \"*.h5\" -exec du -sh {} \\;"
   ]
  },
  {
   "cell_type": "markdown",
   "id": "dab3e840-a0f3-4abc-9681-79f4668d4bfb",
   "metadata": {},
   "source": [
    "## Parameters"
   ]
  },
  {
   "cell_type": "code",
   "execution_count": null,
   "id": "6bac6421-3d21-49b6-aac1-1dc5f32edba3",
   "metadata": {},
   "outputs": [],
   "source": [
    "p_ds = \"../../log/imputation/re/grin/2022-06-14_16-10-56_27433808/ts_results.h5\" # Path to datastore from batchs"
   ]
  },
  {
   "cell_type": "code",
   "execution_count": null,
   "id": "c760683a-4e2f-4208-ad89-d1e36d6322ca",
   "metadata": {},
   "outputs": [],
   "source": [
    "p_ds_o = \"../../tsl/.storage/RealEstate/mvmdts_20200101-20220101-t3000000-m20.h5\" # Path to original data"
   ]
  },
  {
   "cell_type": "markdown",
   "id": "b55331cd-c7e0-4d84-8d6e-f2d69b6e9b28",
   "metadata": {},
   "source": [
    "## Loading data"
   ]
  },
  {
   "cell_type": "code",
   "execution_count": null,
   "id": "a61ab39a-c3bf-4fcc-8413-9607d4fef617",
   "metadata": {},
   "outputs": [],
   "source": [
    "store_o = pd.HDFStore(p_ds_o)"
   ]
  },
  {
   "cell_type": "code",
   "execution_count": null,
   "id": "77a080e1-bcc5-47f2-9e34-2ea5baf7b722",
   "metadata": {},
   "outputs": [],
   "source": [
    "store_o.keys()"
   ]
  },
  {
   "cell_type": "code",
   "execution_count": null,
   "id": "e5f8b346-dffe-4c29-80c8-b0784862a536",
   "metadata": {},
   "outputs": [],
   "source": [
    "dfm = pd.read_hdf(store_o, 'main')"
   ]
  },
  {
   "cell_type": "code",
   "execution_count": null,
   "id": "f49b8bba-6d09-463a-85e0-9c487d2274f7",
   "metadata": {},
   "outputs": [],
   "source": [
    "store = pd.HDFStore(p_ds)"
   ]
  },
  {
   "cell_type": "code",
   "execution_count": null,
   "id": "77429638-d749-4971-869d-f681d2a079be",
   "metadata": {},
   "outputs": [],
   "source": [
    "store.keys()"
   ]
  },
  {
   "cell_type": "code",
   "execution_count": null,
   "id": "84ac1987-3291-4be9-a5b5-b526ee43f792",
   "metadata": {},
   "outputs": [],
   "source": [
    "dfh = pd.read_hdf(store, 'hat_test')\n",
    "dft = pd.read_hdf(store, 'true_test')"
   ]
  },
  {
   "cell_type": "markdown",
   "id": "e56d57a6-b95f-42a6-a7ca-485bbb4b49be",
   "metadata": {},
   "source": [
    "## Overview"
   ]
  },
  {
   "cell_type": "code",
   "execution_count": null,
   "id": "179ee389-f781-4889-94d4-8310ba51df83",
   "metadata": {},
   "outputs": [],
   "source": [
    "_ = dfm[1].plot(legend=False)"
   ]
  },
  {
   "cell_type": "markdown",
   "id": "16628fc0-9619-4827-a4ff-6102b0f71b6e",
   "metadata": {},
   "source": [
    "## Smaller nodes"
   ]
  },
  {
   "cell_type": "code",
   "execution_count": null,
   "id": "0380bff8-143c-4237-9b3c-e8bd288f27a8",
   "metadata": {},
   "outputs": [],
   "source": [
    "l_small = dft.columns[-50:]"
   ]
  },
  {
   "cell_type": "code",
   "execution_count": null,
   "id": "31e4e049-c45d-4ef9-aff8-ecdb88b3c43e",
   "metadata": {},
   "outputs": [],
   "source": [
    "l_index = dft.index"
   ]
  },
  {
   "cell_type": "code",
   "execution_count": null,
   "id": "5cece22d-5bcf-4e97-9e1a-afcec0cb282f",
   "metadata": {},
   "outputs": [],
   "source": [
    "l_index"
   ]
  },
  {
   "cell_type": "code",
   "execution_count": null,
   "id": "70718ef5-8697-4a3b-a3c6-d8c95aa5abfa",
   "metadata": {},
   "outputs": [],
   "source": [
    "dfm.loc[l_index, l_small].plot(legend=False)"
   ]
  },
  {
   "cell_type": "code",
   "execution_count": null,
   "id": "c893e2f3-41b1-484d-8d89-e870e7b3ef57",
   "metadata": {},
   "outputs": [],
   "source": [
    "dft.loc[l_index, l_small].plot(legend=False)"
   ]
  },
  {
   "cell_type": "code",
   "execution_count": null,
   "id": "0a9286c6-38d5-4fcf-8880-3bc124b64954",
   "metadata": {},
   "outputs": [],
   "source": [
    "_ = dfh.loc[l_index, l_small].plot(legend=False)"
   ]
  },
  {
   "cell_type": "code",
   "execution_count": null,
   "id": "41dce1a8-0296-4af9-a82e-e1e9d971da9e",
   "metadata": {},
   "outputs": [],
   "source": []
  },
  {
   "cell_type": "markdown",
   "id": "3d362706-4f75-4f2a-8ab9-d3de1ecfd7c9",
   "metadata": {},
   "source": [
    "## Larger nodes"
   ]
  },
  {
   "cell_type": "code",
   "execution_count": null,
   "id": "138a8302-c3b3-48f5-8299-1e78e9b320d8",
   "metadata": {},
   "outputs": [],
   "source": [
    "l_large = dft.columns[:50]"
   ]
  },
  {
   "cell_type": "code",
   "execution_count": null,
   "id": "cb8e3e15-199e-4bd5-ac13-d3dfe53ccdef",
   "metadata": {},
   "outputs": [],
   "source": [
    "dfm.loc[l_index, l_large].plot(legend=False)"
   ]
  },
  {
   "cell_type": "code",
   "execution_count": null,
   "id": "9e4938bf-9f54-4201-997e-270c54416425",
   "metadata": {},
   "outputs": [],
   "source": [
    "_ = dft.loc[l_index, l_large].plot(legend=False)"
   ]
  },
  {
   "cell_type": "code",
   "execution_count": null,
   "id": "9fdd64fe-bbaa-4b15-9b2d-7a55c1b1e046",
   "metadata": {},
   "outputs": [],
   "source": [
    "_ = dfh.loc[l_index, l_large].plot(legend=False)"
   ]
  }
 ],
 "metadata": {
  "kernelspec": {
   "display_name": "Python 3 (ipykernel)",
   "language": "python",
   "name": "python3"
  },
  "language_info": {
   "codemirror_mode": {
    "name": "ipython",
    "version": 3
   },
   "file_extension": ".py",
   "mimetype": "text/x-python",
   "name": "python",
   "nbconvert_exporter": "python",
   "pygments_lexer": "ipython3",
   "version": "3.8.13"
  }
 },
 "nbformat": 4,
 "nbformat_minor": 5
}
